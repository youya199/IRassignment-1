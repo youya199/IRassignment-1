{
 "cells": [
  {
   "cell_type": "code",
   "execution_count": 8,
   "id": "76aba210",
   "metadata": {},
   "outputs": [
    {
     "data": {
      "text/latex": [
       "$${\\bf ddd}c = \\sqrt{a^2 + b^2}$$\n"
      ],
      "text/plain": [
       "<IPython.core.display.Latex object>"
      ]
     },
     "metadata": {},
     "output_type": "display_data"
    }
   ],
   "source": [
    "%%latex\n",
    "$${\\bf ddd}c = \\sqrt{a^2 + b^2}$$\n"
   ]
  },
  {
   "cell_type": "code",
   "execution_count": 104,
   "id": "85c99dfe",
   "metadata": {},
   "outputs": [],
   "source": [
    "import numpy as np\n",
    "import math\n",
    "def sam(N,d):\n",
    "    V=np.zeros((d,0))\n",
    "    for i in range(N):\n",
    "        v=2*np.random.rand(d,1)-1\n",
    "        V=np.c_[V,v]\n",
    "    return V\n",
    "\n",
    "def aver_minang(V):\n",
    "    d=np.size(V,0)\n",
    "    N=np.size(V,1)\n",
    "    csita=np.zeros((N,N))\n",
    "    for i in range(N):\n",
    "        vi=V[:,i]\n",
    "        for j in range(N):\n",
    "            if i!=j:\n",
    "                vj=V[:,j]\n",
    "                csita[i,j]=abs((vi.T).dot(vj)/(np.linalg.norm(vi)*np.linalg.norm(vj)))\n",
    "            else:\n",
    "                csita[i,j]=0\n",
    "    csita_max=np.amax(csita,1)\n",
    "    sita_min=np.arccos(csita_max)\n",
    "    aver=np.mean(sita_min)\n",
    "    return aver\n",
    "\n",
    "def getaver(N,d):\n",
    "    V=sam(N,d)\n",
    "    aver=180/math.pi*aver_minang(V)#change from rad to degree\n",
    "    return aver\n"
   ]
  },
  {
   "cell_type": "code",
   "execution_count": null,
   "id": "76a9a525",
   "metadata": {},
   "outputs": [
    {
     "name": "stdout",
     "output_type": "stream",
     "text": [
      "[]\n"
     ]
    }
   ],
   "source": [
    "import matplotlib.pyplot as plt\n",
    "a=np.arange(1,1001).reshape((1,1000))#row vector\n",
    "b=np.zeros((1,0))\n",
    "print(b)\n",
    "for i in range(1000):\n",
    "    aver=getaver(100,i+1)\n",
    "    b=np.c_[b,aver]\n",
    "print(a,b)\n",
    "plt.plot(a,b,'ro')\n",
    "plt.show()\n",
    "    "
   ]
  }
 ],
 "metadata": {
  "kernelspec": {
   "display_name": "Python 3",
   "language": "python",
   "name": "python3"
  },
  "language_info": {
   "codemirror_mode": {
    "name": "ipython",
    "version": 3
   },
   "file_extension": ".py",
   "mimetype": "text/x-python",
   "name": "python",
   "nbconvert_exporter": "python",
   "pygments_lexer": "ipython3",
   "version": "3.8.8"
  }
 },
 "nbformat": 4,
 "nbformat_minor": 5
}
