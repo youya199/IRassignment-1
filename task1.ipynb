{
 "cells": [
  {
   "cell_type": "markdown",
   "id": "350456e6",
   "metadata": {},
   "source": [
    "# task 1\n",
    "## 1.Determine d\n",
    " if p=2, i.e.\n",
    "$$q=\\frac{S_{C_1}}{S_{C_d}}=\\frac{d^p}{1^p}=d^p$$\n",
    "## 2.Determine the probability\n",
    "$$Pr\\{\\| x^p\\|_\\infty >2.576\\}$$\n",
    "\n",
    "$$=Pr\\{max(|x_1| ,|x_2| ,... |x_p| ) >2.576\\}$$\n",
    "\n",
    "$$=1-Pr\\{max(|x_1| ,|x_2| ,... |x_p| ) \\leq2.576\\}$$\n",
    "\n",
    "$$=1-\\prod_{i=1}^p Pr\\{|x_i| \\leq2.576\\}$$\n",
    "\n",
    "$$=1-\\prod_{i=1}^p 0.99$$\n",
    "\n",
    "$$=1-0.99^p$$\n",
    "\n",
    "\n",
    "when p=2,i.e.$$Pr=1-0.99^p=0.0199$$\n",
    "\n",
    "when p=3,i.e.$$Pr=1-0.99^p=0.0297$$\n",
    "\n",
    "when p=100,i.e.$$Pr=1-0.99^p=0.6340$$"
   ]
  },
  {
   "cell_type": "code",
   "execution_count": 4,
   "id": "54255f53",
   "metadata": {},
   "outputs": [
    {
     "name": "stdout",
     "output_type": "stream",
     "text": [
      "0.6339676587267709\n"
     ]
    }
   ],
   "source": [
    "import math\n",
    "print(1-math.pow(0.99,100))"
   ]
  }
 ],
 "metadata": {
  "kernelspec": {
   "display_name": "Python 3",
   "language": "python",
   "name": "python3"
  },
  "language_info": {
   "codemirror_mode": {
    "name": "ipython",
    "version": 3
   },
   "file_extension": ".py",
   "mimetype": "text/x-python",
   "name": "python",
   "nbconvert_exporter": "python",
   "pygments_lexer": "ipython3",
   "version": "3.8.8"
  }
 },
 "nbformat": 4,
 "nbformat_minor": 5
}
